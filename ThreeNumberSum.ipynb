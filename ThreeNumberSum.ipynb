{
 "metadata": {
  "language_info": {
   "codemirror_mode": {
    "name": "ipython",
    "version": 3
   },
   "file_extension": ".py",
   "mimetype": "text/x-python",
   "name": "python",
   "nbconvert_exporter": "python",
   "pygments_lexer": "ipython3",
   "version": "3.6.8-final"
  },
  "orig_nbformat": 2,
  "kernelspec": {
   "name": "python3",
   "display_name": "Python 3",
   "language": "python"
  }
 },
 "nbformat": 4,
 "nbformat_minor": 2,
 "cells": [
  {
   "cell_type": "code",
   "execution_count": null,
   "metadata": {},
   "outputs": [],
   "source": [
    "# Input: non-empty array of distinct integers, target sum\n",
    "# Output: all triplets of array that return target sum\n",
    "# Assumptions: triplets should be ordered in ascending order\n",
    "    # numbers within triplets should be ordered\n",
    "# LEARNED:\n"
   ]
  },
  {
   "cell_type": "code",
   "execution_count": 26,
   "metadata": {},
   "outputs": [],
   "source": [
    "array = [1,2,3]\n",
    "targetSum = 6"
   ]
  },
  {
   "cell_type": "code",
   "execution_count": 3,
   "metadata": {},
   "outputs": [
    {
     "output_type": "execute_result",
     "data": {
      "text/plain": [
       "[-8, -6, 1, 2, 3, 5, 6, 12]"
      ]
     },
     "metadata": {},
     "execution_count": 3
    }
   ],
   "source": [
    "array.sort()\n",
    "array"
   ]
  },
  {
   "cell_type": "code",
   "execution_count": 27,
   "metadata": {},
   "outputs": [
    {
     "output_type": "stream",
     "name": "stdout",
     "text": [
      "[[1, 2, 3]]\n"
     ]
    }
   ],
   "source": [
    "output = []\n",
    "\n",
    "for i in range(0, len(array)-2):\n",
    "    for j in range(i+1, len(array)-1):\n",
    "        for k in range(j+1, len(array)):\n",
    "            first = array[i]\n",
    "            second = array[j]\n",
    "            third = array[k]\n",
    "            if first + second + third == targetSum:\n",
    "                output.append([first,second,third])\n",
    "print(output)"
   ]
  },
  {
   "cell_type": "code",
   "execution_count": 25,
   "metadata": {},
   "outputs": [
    {
     "output_type": "stream",
     "name": "stdout",
     "text": [
      "0\n"
     ]
    }
   ],
   "source": [
    "for i in range(0,len(array)-2):\n",
    "    print(i)"
   ]
  },
  {
   "cell_type": "code",
   "execution_count": 18,
   "metadata": {},
   "outputs": [],
   "source": [
    "def threeNumberSum(array, targetSum):\n",
    "    output = []\n",
    "    array.sort()\n",
    "    for i in range(0, len(array)-2):\n",
    "        for j in range(i+1, len(array)-2):\n",
    "            for k in range(j+1, len(array)-1):\n",
    "                first = array[i]\n",
    "                second = array[j]\n",
    "                third = array[k]\n",
    "                if first + second + third == targetSum:\n",
    "                    output.append([first,second,third])\n",
    "    return output"
   ]
  },
  {
   "cell_type": "code",
   "execution_count": 19,
   "metadata": {},
   "outputs": [
    {
     "output_type": "execute_result",
     "data": {
      "text/plain": [
       "[[-8, 2, 6], [-8, 3, 5], [-6, 1, 5]]"
      ]
     },
     "metadata": {},
     "execution_count": 19
    }
   ],
   "source": [
    "threeNumberSum(array, targetSum)"
   ]
  }
 ]
}