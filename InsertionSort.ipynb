{
 "metadata": {
  "language_info": {
   "codemirror_mode": {
    "name": "ipython",
    "version": 3
   },
   "file_extension": ".py",
   "mimetype": "text/x-python",
   "name": "python",
   "nbconvert_exporter": "python",
   "pygments_lexer": "ipython3",
   "version": "3.6.8-final"
  },
  "orig_nbformat": 2,
  "kernelspec": {
   "name": "python3",
   "display_name": "Python 3",
   "language": "python"
  }
 },
 "nbformat": 4,
 "nbformat_minor": 2,
 "cells": [
  {
   "cell_type": "code",
   "execution_count": null,
   "metadata": {},
   "outputs": [],
   "source": [
    "# Input: array of integers\n",
    "# Output: sorted version of array\n",
    "# Assumptions: Use insertion sort\n",
    "# LEARNED: "
   ]
  },
  {
   "cell_type": "code",
   "execution_count": 10,
   "metadata": {},
   "outputs": [
    {
     "output_type": "execute_result",
     "data": {
      "text/plain": [
       "[2, 5, 6, 4, 3, 9, 7, 1, 3]"
      ]
     },
     "metadata": {},
     "execution_count": 10
    }
   ],
   "source": [
    "array = [2, 5, 6, 4, 3, 9, 7, 1, 3]\n",
    "array"
   ]
  },
  {
   "cell_type": "code",
   "execution_count": 2,
   "metadata": {},
   "outputs": [],
   "source": [
    "# look at first value, compare to next value, sort\n",
    "    # save those two, compare third value and see where it fits in list, save\n",
    "    # compare 4th to third, put in list, save"
   ]
  },
  {
   "cell_type": "code",
   "execution_count": 11,
   "metadata": {},
   "outputs": [],
   "source": [
    "left = 0\n",
    "while left < len(array)-1:\n",
    "    if array[left+1] < array[left]: # need to rearrange\n",
    "        for i in range(0,left+1):\n",
    "            if array[left+1] < array[i]: # need to rearrange\n",
    "                array[i],array[left+1] = array[left+1], array[i]\n",
    "            else:\n",
    "                pass\n",
    "    left = left+1"
   ]
  },
  {
   "cell_type": "code",
   "execution_count": 13,
   "metadata": {},
   "outputs": [],
   "source": [
    "def insertionSort(array):\n",
    "    left = 0\n",
    "    while left < len(array)-1:\n",
    "        if array[left+1] < array[left]: # need to rearrange\n",
    "            for i in range(0,left+1):\n",
    "                if array[left+1] < array[i]: # need to rearrange\n",
    "                    array[i],array[left+1] = array[left+1], array[i]\n",
    "                else:\n",
    "                    pass\n",
    "        left = left+1\n",
    "    return array"
   ]
  }
 ]
}