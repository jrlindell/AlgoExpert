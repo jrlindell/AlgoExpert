{
 "metadata": {
  "language_info": {
   "codemirror_mode": {
    "name": "ipython",
    "version": 3
   },
   "file_extension": ".py",
   "mimetype": "text/x-python",
   "name": "python",
   "nbconvert_exporter": "python",
   "pygments_lexer": "ipython3",
   "version": "3.6.8-final"
  },
  "orig_nbformat": 2,
  "kernelspec": {
   "name": "python3",
   "display_name": "Python 3",
   "language": "python"
  }
 },
 "nbformat": 4,
 "nbformat_minor": 2,
 "cells": [
  {
   "cell_type": "code",
   "execution_count": null,
   "metadata": {},
   "outputs": [],
   "source": [
    "# Input: non-empty string\n",
    "# Output: whether or not it is a palindrome\n",
    "# Assumptions:\n",
    "# LEARNED: Do not want to loop through whole array b/c it will just reswitch it"
   ]
  },
  {
   "cell_type": "code",
   "execution_count": 41,
   "metadata": {},
   "outputs": [],
   "source": [
    "string = 'abcdefghihgfeddcba'"
   ]
  },
  {
   "cell_type": "code",
   "execution_count": 67,
   "metadata": {},
   "outputs": [
    {
     "output_type": "stream",
     "name": "stdout",
     "text": [
      "a a\nb b\nc c\nd d\ne d\nf e\ng f\nh g\ni h\n"
     ]
    },
    {
     "output_type": "execute_result",
     "data": {
      "text/plain": [
       "False"
      ]
     },
     "metadata": {},
     "execution_count": 67
    }
   ],
   "source": [
    "i = 0\n",
    "split = list(string)\n",
    "for i in range(0, math.ceil(len(string)/2)):\n",
    "    split[i], split[len(string)-1-i] = split[len(string)-1-i], split[i]\n",
    "split = ''.join(split)\n",
    "(split == string)"
   ]
  },
  {
   "cell_type": "code",
   "execution_count": 68,
   "metadata": {},
   "outputs": [],
   "source": [
    "def isPalindrome(string):\n",
    "    i = 0\n",
    "    split = list(string)\n",
    "    for i in range(0, math.ceil(len(string)/2)):\n",
    "        split[i], split[len(string)-1-i] = split[len(string)-1-i], split[i]\n",
    "    split = ''.join(split)\n",
    "    return (split == string)"
   ]
  },
  {
   "cell_type": "code",
   "execution_count": 69,
   "metadata": {},
   "outputs": [
    {
     "output_type": "execute_result",
     "data": {
      "text/plain": [
       "False"
      ]
     },
     "metadata": {},
     "execution_count": 69
    }
   ],
   "source": [
    "isPalindrome(string)"
   ]
  }
 ]
}