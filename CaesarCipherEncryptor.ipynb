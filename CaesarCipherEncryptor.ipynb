{
 "metadata": {
  "language_info": {
   "codemirror_mode": {
    "name": "ipython",
    "version": 3
   },
   "file_extension": ".py",
   "mimetype": "text/x-python",
   "name": "python",
   "nbconvert_exporter": "python",
   "pygments_lexer": "ipython3",
   "version": "3.6.8-final"
  },
  "orig_nbformat": 2,
  "kernelspec": {
   "name": "python3",
   "display_name": "Python 3",
   "language": "python"
  }
 },
 "nbformat": 4,
 "nbformat_minor": 2,
 "cells": [
  {
   "cell_type": "code",
   "execution_count": null,
   "metadata": {},
   "outputs": [],
   "source": [
    "# Input: string, key to shift letters\n",
    "# Output: new alphabetical letters after shift\n",
    "# Assumptions:\n",
    "# LEARNED:"
   ]
  },
  {
   "cell_type": "code",
   "execution_count": 18,
   "metadata": {},
   "outputs": [],
   "source": [
    "string = 'xyz'\n",
    "key = 2"
   ]
  },
  {
   "cell_type": "code",
   "execution_count": 37,
   "metadata": {},
   "outputs": [],
   "source": [
    "alphabet = 'abcdefghijklmnopqrstuvwxyz'\n",
    "idx = 0\n",
    "wrap = 0\n",
    "split = list(string)\n",
    "output = []\n",
    "for i in range(0, len(string)):\n",
    "    # find i in alphabet\n",
    "    idx = alphabet.index(split[i])\n",
    "    if idx + key >= 26:\n",
    "        wrap = key - (26 - idx)\n",
    "        output.append(alphabet[wrap])\n",
    "    else:\n",
    "        output.append(alphabet[idx + key])\n",
    "output = ''.join(output)"
   ]
  },
  {
   "cell_type": "code",
   "execution_count": 51,
   "metadata": {},
   "outputs": [],
   "source": [
    "def caesarCipherEncryptor(string, key):\n",
    "    alphabet = 'abcdefghijklmnopqrstuvwxyz'\n",
    "    idx = 0\n",
    "    wrap = 0\n",
    "    split = list(string)\n",
    "    output = []\n",
    "    if key > 26:\n",
    "        key = key % 26\n",
    "    for i in range(0, len(string)):\n",
    "        # find i in alphabet\n",
    "        idx = alphabet.index(split[i])\n",
    "        if idx + key >= 26:\n",
    "            wrap = key - (26 - idx)\n",
    "            output.append(alphabet[wrap])\n",
    "        else:\n",
    "            output.append(alphabet[idx + key])\n",
    "    output = ''.join(output)\n",
    "    return output"
   ]
  },
  {
   "cell_type": "code",
   "execution_count": 53,
   "metadata": {},
   "outputs": [
    {
     "output_type": "execute_result",
     "data": {
      "text/plain": [
       "'xyz'"
      ]
     },
     "metadata": {},
     "execution_count": 53
    }
   ],
   "source": [
    "caesarCipherEncryptor(string, 52)"
   ]
  }
 ]
}