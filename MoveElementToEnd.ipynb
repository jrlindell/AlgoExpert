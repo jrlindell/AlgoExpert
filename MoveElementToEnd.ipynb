{
 "metadata": {
  "language_info": {
   "codemirror_mode": {
    "name": "ipython",
    "version": 3
   },
   "file_extension": ".py",
   "mimetype": "text/x-python",
   "name": "python",
   "nbconvert_exporter": "python",
   "pygments_lexer": "ipython3",
   "version": "3.6.8-final"
  },
  "orig_nbformat": 2,
  "kernelspec": {
   "name": "python3",
   "display_name": "Python 3",
   "language": "python"
  }
 },
 "nbformat": 4,
 "nbformat_minor": 2,
 "cells": [
  {
   "cell_type": "code",
   "execution_count": null,
   "metadata": {},
   "outputs": [],
   "source": [
    "# Input: array of integers and an integer\n",
    "# Output: array\n",
    "# Assumptions: moves all instances of integer to end of array\n",
    "# LEARNED: Whiles are better than fors\n"
   ]
  },
  {
   "cell_type": "code",
   "execution_count": 16,
   "metadata": {},
   "outputs": [],
   "source": [
    "array = [2, 1, 2, 2, 2, 3, 4, 2]\n",
    "toMove = 2"
   ]
  },
  {
   "cell_type": "code",
   "execution_count": 17,
   "metadata": {},
   "outputs": [],
   "source": [
    "left = 0\n",
    "right = len(array) - 1\n",
    "\n",
    "while left < right:\n",
    "    while left < right and array[right] == toMove:\n",
    "        right = right - 1\n",
    "    if array[left] == toMove:\n",
    "        array[left], array[right] = array[right], array[left]\n",
    "    left = left + 1"
   ]
  },
  {
   "cell_type": "code",
   "execution_count": 19,
   "metadata": {},
   "outputs": [],
   "source": [
    "def MoveElementToEnd(array, toMove):\n",
    "    left = 0\n",
    "    right = len(array) - 1\n",
    "\n",
    "    while left < right:\n",
    "        while left < right and array[right] == toMove:\n",
    "            right = right - 1\n",
    "        if array[left] == toMove:\n",
    "            array[left], array[right] = array[right], array[left]\n",
    "        left = left + 1\n",
    "    return array"
   ]
  },
  {
   "cell_type": "code",
   "execution_count": 20,
   "metadata": {},
   "outputs": [
    {
     "output_type": "execute_result",
     "data": {
      "text/plain": [
       "[4, 1, 3, 2, 2, 2, 2, 2]"
      ]
     },
     "metadata": {},
     "execution_count": 20
    }
   ],
   "source": [
    "MoveElementToEnd(array, toMove)"
   ]
  }
 ]
}