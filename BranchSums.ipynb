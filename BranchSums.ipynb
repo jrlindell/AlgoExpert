{
 "metadata": {
  "language_info": {
   "codemirror_mode": {
    "name": "ipython",
    "version": 3
   },
   "file_extension": ".py",
   "mimetype": "text/x-python",
   "name": "python",
   "nbconvert_exporter": "python",
   "pygments_lexer": "ipython3",
   "version": "3.6.8-final"
  },
  "orig_nbformat": 2,
  "kernelspec": {
   "name": "python3",
   "display_name": "Python 3",
   "language": "python"
  }
 },
 "nbformat": 4,
 "nbformat_minor": 2,
 "cells": [
  {
   "cell_type": "code",
   "execution_count": null,
   "metadata": {},
   "outputs": [],
   "source": [
    "# Input: binary tree\n",
    "# Output: branch sums ordered from leftmost branch to rightmost branch\n",
    "# Assumptions: sum of all values in a branch\n",
    "    # each node has an integer value, a left child node, and a right child node\n",
    "    # child node is eiher a binary tree or None/Null\n",
    "# LEARNED: Could not do this myself. Cannot visualize traversing a tree that I cant see"
   ]
  },
  {
   "cell_type": "code",
   "execution_count": 18,
   "metadata": {},
   "outputs": [
    {
     "output_type": "execute_result",
     "data": {
      "text/plain": [
       "{'tree': {'nodes': [{'id': '1', 'left': '2', 'right': '3', 'value': 1},\n",
       "   {'id': '2', 'left': '4', 'right': '5', 'value': 2},\n",
       "   {'id': '3', 'left': '6', 'right': '7', 'value': 3},\n",
       "   {'id': '4', 'left': '8', 'right': '9', 'value': 4},\n",
       "   {'id': '5', 'left': '10', 'right': None, 'value': 5},\n",
       "   {'id': '6', 'left': None, 'right': None, 'value': 6},\n",
       "   {'id': '7', 'left': None, 'right': None, 'value': 7},\n",
       "   {'id': '8', 'left': None, 'right': None, 'value': 8},\n",
       "   {'id': '9', 'left': None, 'right': None, 'value': 9},\n",
       "   {'id': '10', 'left': None, 'right': None, 'value': 10}],\n",
       "  'root': '1'}}"
      ]
     },
     "metadata": {},
     "execution_count": 18
    }
   ],
   "source": [
    "{\n",
    "  \"tree\": {\n",
    "    \"nodes\": [\n",
    "      {\"id\": \"1\", \"left\": \"2\", \"right\": \"3\", \"value\": 1},\n",
    "      {\"id\": \"2\", \"left\": \"4\", \"right\": \"5\", \"value\": 2},\n",
    "      {\"id\": \"3\", \"left\": \"6\", \"right\": \"7\", \"value\": 3},\n",
    "      {\"id\": \"4\", \"left\": \"8\", \"right\": \"9\", \"value\": 4},\n",
    "      {\"id\": \"5\", \"left\": \"10\", \"right\": None, \"value\": 5},\n",
    "      {\"id\": \"6\", \"left\": None, \"right\": None, \"value\": 6},\n",
    "      {\"id\": \"7\", \"left\": None, \"right\": None, \"value\": 7},\n",
    "      {\"id\": \"8\", \"left\": None, \"right\": None, \"value\": 8},\n",
    "      {\"id\": \"9\", \"left\": None, \"right\": None, \"value\": 9},\n",
    "      {\"id\": \"10\", \"left\": None, \"right\": None, \"value\": 10}\n",
    "    ],\n",
    "    \"root\": \"1\"\n",
    "  }\n",
    "}"
   ]
  },
  {
   "cell_type": "code",
   "execution_count": 24,
   "metadata": {},
   "outputs": [],
   "source": [
    "class BinaryTree:\n",
    "    def __init__(self, value):\n",
    "        self.value = value\n",
    "        self.left = None\n",
    "        self.right = None\n",
    "def branchSums(root):\n",
    "    sums = []\n",
    "    calculatebranchSums(root, 0, sums)\n",
    "    return sums\n",
    "def calculatebranchSums(node, runningSum, sums):\n",
    "    if node is None:\n",
    "        return\n",
    "    newRunningSum = runningSum + node.value\n",
    "    if node.left is None and node.right is None:\n",
    "        sums.append(newRunningSum)\n",
    "    calculatebranchSums(node.left, newRunningSum, sums)\n",
    "    calculatebranchSums(node.right, newRunningSum, sums)"
   ]
  },
  {
   "cell_type": "code",
   "execution_count": 34,
   "metadata": {},
   "outputs": [
    {
     "output_type": "execute_result",
     "data": {
      "text/plain": [
       "{'tree': {'nodes': [{'id': '1', 'left': '2', 'right': '3', 'value': 1},\n",
       "   {'id': '2', 'left': '4', 'right': '5', 'value': 2},\n",
       "   {'id': '3', 'left': '6', 'right': '7', 'value': 3},\n",
       "   {'id': '4', 'left': '8', 'right': '9', 'value': 4},\n",
       "   {'id': '5', 'left': '10', 'right': None, 'value': 5},\n",
       "   {'id': '6', 'left': None, 'right': None, 'value': 6},\n",
       "   {'id': '7', 'left': None, 'right': None, 'value': 7},\n",
       "   {'id': '8', 'left': None, 'right': None, 'value': 8},\n",
       "   {'id': '9', 'left': None, 'right': None, 'value': 9},\n",
       "   {'id': '10', 'left': None, 'right': None, 'value': 10}],\n",
       "  'root': '1'}}"
      ]
     },
     "metadata": {},
     "execution_count": 34
    }
   ],
   "source": []
  },
  {
   "cell_type": "code",
   "execution_count": 32,
   "metadata": {},
   "outputs": [
    {
     "output_type": "error",
     "ename": "TypeError",
     "evalue": "'dict' object is not callable",
     "traceback": [
      "\u001b[1;31m---------------------------------------------------------------------------\u001b[0m",
      "\u001b[1;31mTypeError\u001b[0m                                 Traceback (most recent call last)",
      "\u001b[1;32m<ipython-input-32-46aac3c124b7>\u001b[0m in \u001b[0;36m<module>\u001b[1;34m\u001b[0m\n\u001b[1;32m----> 1\u001b[1;33m \u001b[0mroot\u001b[0m\u001b[1;33m(\u001b[0m\u001b[0mroot\u001b[0m\u001b[1;33m)\u001b[0m\u001b[1;33m\u001b[0m\u001b[1;33m\u001b[0m\u001b[0m\n\u001b[0m",
      "\u001b[1;31mTypeError\u001b[0m: 'dict' object is not callable"
     ]
    }
   ],
   "source": []
  }
 ]
}