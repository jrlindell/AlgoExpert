{
 "metadata": {
  "language_info": {
   "codemirror_mode": {
    "name": "ipython",
    "version": 3
   },
   "file_extension": ".py",
   "mimetype": "text/x-python",
   "name": "python",
   "nbconvert_exporter": "python",
   "pygments_lexer": "ipython3",
   "version": "3.6.8-final"
  },
  "orig_nbformat": 2,
  "kernelspec": {
   "name": "python3",
   "display_name": "Python 3",
   "language": "python"
  }
 },
 "nbformat": 4,
 "nbformat_minor": 2,
 "cells": [
  {
   "cell_type": "code",
   "execution_count": null,
   "metadata": {},
   "outputs": [],
   "source": [
    "# Input: array of integers\n",
    "# Output: sorted array\n",
    "# Assumptions: use selection sort\n",
    "    # find biggest min, find second biggest...\n",
    "# LEARNED: Always reset indeces in loops\n"
   ]
  },
  {
   "cell_type": "code",
   "execution_count": 23,
   "metadata": {},
   "outputs": [
    {
     "output_type": "execute_result",
     "data": {
      "text/plain": [
       "[1, 2, 3]"
      ]
     },
     "metadata": {},
     "execution_count": 23
    }
   ],
   "source": [
    "array = [1,2,3]\n",
    "array"
   ]
  },
  {
   "cell_type": "code",
   "execution_count": 21,
   "metadata": {},
   "outputs": [
    {
     "output_type": "stream",
     "name": "stdout",
     "text": [
      "[1, 2, 3]\n"
     ]
    }
   ],
   "source": [
    "left = 0\n",
    "minloc = 0\n",
    "min = array[0]\n",
    "while left < len(array):\n",
    "    min = array[left]\n",
    "    minloc = left\n",
    "    for i in range(left, len(array)-1):\n",
    "        if array[i] < min:\n",
    "            min = array[i]\n",
    "            minloc = i\n",
    "        else:\n",
    "            pass\n",
    "    array[minloc], array[left] = array[left], array[minloc]\n",
    "    left = left + 1\n",
    "print(array)"
   ]
  },
  {
   "cell_type": "code",
   "execution_count": 22,
   "metadata": {},
   "outputs": [],
   "source": [
    "def selectionSort(array):\n",
    "    left = 0\n",
    "    min = array[0]\n",
    "    minloc = 0\n",
    "    while left < len(array)-1:\n",
    "        min = array[left]\n",
    "        minloc = left\n",
    "        for i in range(left+1, len(array)):\n",
    "            if array[i] < min:\n",
    "                min = array[i]\n",
    "                minloc = i\n",
    "        array[minloc],array[left] = array[left], array[minloc]\n",
    "        left = left+1\n",
    "    return array"
   ]
  },
  {
   "cell_type": "code",
   "execution_count": 24,
   "metadata": {},
   "outputs": [
    {
     "output_type": "execute_result",
     "data": {
      "text/plain": [
       "[1, 2, 3]"
      ]
     },
     "metadata": {},
     "execution_count": 24
    }
   ],
   "source": [
    "selectionSort(array)"
   ]
  }
 ]
}