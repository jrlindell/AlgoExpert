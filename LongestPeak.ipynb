{
 "metadata": {
  "language_info": {
   "codemirror_mode": {
    "name": "ipython",
    "version": 3
   },
   "file_extension": ".py",
   "mimetype": "text/x-python",
   "name": "python",
   "nbconvert_exporter": "python",
   "pygments_lexer": "ipython3",
   "version": "3.6.8-final"
  },
  "orig_nbformat": 2,
  "kernelspec": {
   "name": "python3",
   "display_name": "Python 3",
   "language": "python"
  }
 },
 "nbformat": 4,
 "nbformat_minor": 2,
 "cells": [
  {
   "cell_type": "code",
   "execution_count": null,
   "metadata": {},
   "outputs": [],
   "source": [
    "# Input: array\n",
    "# Output: longest peak\n",
    "# Assumptions: longest peak means numbers are strictly increasing until a point, where they then strictly decrease\n",
    "    # must be a peak of 3 to the top, and at least one going down\n",
    "# LEARNED:\n"
   ]
  },
  {
   "cell_type": "code",
   "execution_count": 34,
   "metadata": {},
   "outputs": [],
   "source": [
    "#array = [1, 2, 3, 3, 4, 0, 10, 6, 5, -1, -3, 2, 3]\n",
    "    # 0, 10, 6, 5, -1, -3\n",
    "array = [1, 3, 2]"
   ]
  },
  {
   "cell_type": "code",
   "execution_count": 8,
   "metadata": {},
   "outputs": [],
   "source": [
    "# 1, 2, 3 all increasing\n",
    "# 3 is equal, disregard\n",
    "# 3, 4, 0 form peak\n",
    "# 0, 10, 6, 5, -1, -3 form peak\n"
   ]
  },
  {
   "cell_type": "code",
   "execution_count": 40,
   "metadata": {},
   "outputs": [
    {
     "output_type": "stream",
     "name": "stdout",
     "text": [
      "0\n"
     ]
    }
   ],
   "source": [
    "peaks = [0]\n",
    "length = 0\n",
    "\n",
    "for i in range(0, len(array)-1):\n",
    "    if array[i] < array[i+1]: # increasing\n",
    "        if array[i-1] > array[i] and length >= 3: # was decreasing, now is not\n",
    "            peaks.append(length-1)\n",
    "            length = 0\n",
    "        else:\n",
    "            length += 1\n",
    "    elif array[i] > array[i+1]: # decreasing\n",
    "        if length >= 1:\n",
    "            #peaks.append(length)\n",
    "            length += 1\n",
    "        else:\n",
    "            length = 0\n",
    "    else: # equal\n",
    "        length = 0\n",
    "\n",
    "if len(array) < 3:\n",
    "        print(0)\n",
    "else:\n",
    "    print(max(peaks))\n"
   ]
  },
  {
   "cell_type": "code",
   "execution_count": 38,
   "metadata": {},
   "outputs": [
    {
     "output_type": "execute_result",
     "data": {
      "text/plain": [
       "[0]"
      ]
     },
     "metadata": {},
     "execution_count": 38
    }
   ],
   "source": [
    "peaks"
   ]
  }
 ]
}