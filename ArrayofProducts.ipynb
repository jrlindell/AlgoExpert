{
 "metadata": {
  "language_info": {
   "codemirror_mode": {
    "name": "ipython",
    "version": 3
   },
   "file_extension": ".py",
   "mimetype": "text/x-python",
   "name": "python",
   "nbconvert_exporter": "python",
   "pygments_lexer": "ipython3",
   "version": "3.6.8-final"
  },
  "orig_nbformat": 2,
  "kernelspec": {
   "name": "python3",
   "display_name": "Python 3",
   "language": "python"
  }
 },
 "nbformat": 4,
 "nbformat_minor": 2,
 "cells": [
  {
   "cell_type": "code",
   "execution_count": null,
   "metadata": {},
   "outputs": [],
   "source": [
    "# Input: non-empty array of integers\n",
    "# Output: array of same length, where each element is equal to the product of every other element\n",
    "# Assumptions: value of output[i] is the product of every number in array except input[i]\n",
    "# LEARNED:"
   ]
  },
  {
   "cell_type": "code",
   "execution_count": 4,
   "metadata": {},
   "outputs": [],
   "source": [
    "array = [5, 1, 4, 2]"
   ]
  },
  {
   "cell_type": "code",
   "execution_count": 14,
   "metadata": {},
   "outputs": [],
   "source": [
    "output = []\n",
    "product = 1\n",
    "for i in range(0, len(array)):\n",
    "    for j in range(0, len(array)):\n",
    "        if i == j:\n",
    "            pass\n",
    "        else:\n",
    "            product = array[j] * product\n",
    "    output.append(product)\n",
    "    product = 1"
   ]
  },
  {
   "cell_type": "code",
   "execution_count": 16,
   "metadata": {},
   "outputs": [],
   "source": [
    "def arrayOfProducts(array):\n",
    "    output = []\n",
    "    product = 1\n",
    "    for i in range(0, len(array)):\n",
    "        for j in range(0, len(array)):\n",
    "            if i == j:\n",
    "                pass\n",
    "            else:\n",
    "                product = array[j] * product\n",
    "        output.append(product)\n",
    "        product = 1\n",
    "    return output"
   ]
  },
  {
   "cell_type": "code",
   "execution_count": 17,
   "metadata": {},
   "outputs": [
    {
     "output_type": "execute_result",
     "data": {
      "text/plain": [
       "[8, 40, 10, 20]"
      ]
     },
     "metadata": {},
     "execution_count": 17
    }
   ],
   "source": [
    "arrayOfProducts(array)"
   ]
  }
 ]
}