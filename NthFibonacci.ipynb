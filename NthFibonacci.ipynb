{
 "metadata": {
  "language_info": {
   "codemirror_mode": {
    "name": "ipython",
    "version": 3
   },
   "file_extension": ".py",
   "mimetype": "text/x-python",
   "name": "python",
   "nbconvert_exporter": "python",
   "pygments_lexer": "ipython3",
   "version": "3.6.8-final"
  },
  "orig_nbformat": 2,
  "kernelspec": {
   "name": "python3",
   "display_name": "Python 3"
  }
 },
 "nbformat": 4,
 "nbformat_minor": 2,
 "cells": [
  {
   "cell_type": "code",
   "execution_count": null,
   "metadata": {},
   "outputs": [],
   "source": [
    "# Input: Integer (the number of the fibonacci sequence)\n",
    "# Output: Fib number\n",
    "# Assumptions:\n",
    "   # getNthFib(1) = 0\n",
    "   # getNthFib(2) = 1\n",
    "\n",
    "0\n",
    "1\n",
    "1\n",
    "2\n",
    "3\n",
    "5\n",
    "8\n",
    "13"
   ]
  },
  {
   "cell_type": "code",
   "execution_count": 27,
   "metadata": {},
   "outputs": [],
   "source": [
    "def getNthFib(n):\n",
    "    Fib = []\n",
    "    Fib.append(0)\n",
    "    Fib.append(1)\n",
    "    for i in range(2, n):\n",
    "        Fib.append(Fib[i-1] + Fib[i-2])\n",
    "    return Fib[n-1]"
   ]
  },
  {
   "cell_type": "code",
   "execution_count": 29,
   "metadata": {},
   "outputs": [
    {
     "output_type": "execute_result",
     "data": {
      "text/plain": [
       "5"
      ]
     },
     "metadata": {},
     "execution_count": 29
    }
   ],
   "source": []
  }
 ]
}