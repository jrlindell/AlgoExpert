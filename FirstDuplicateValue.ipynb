{
 "metadata": {
  "language_info": {
   "codemirror_mode": {
    "name": "ipython",
    "version": 3
   },
   "file_extension": ".py",
   "mimetype": "text/x-python",
   "name": "python",
   "nbconvert_exporter": "python",
   "pygments_lexer": "ipython3",
   "version": "3.6.8-final"
  },
  "orig_nbformat": 2,
  "kernelspec": {
   "name": "python3",
   "display_name": "Python 3",
   "language": "python"
  }
 },
 "nbformat": 4,
 "nbformat_minor": 2,
 "cells": [
  {
   "cell_type": "code",
   "execution_count": null,
   "metadata": {},
   "outputs": [],
   "source": [
    "# Input: array of integers\n",
    "# Output: first integer that appears more than once\n",
    "# Assumptions: if no int appears more than once, return -1\n",
    "# LEARNED:"
   ]
  },
  {
   "cell_type": "code",
   "execution_count": 25,
   "metadata": {},
   "outputs": [
    {
     "output_type": "execute_result",
     "data": {
      "text/plain": [
       "[9, 13, 6, 2, 3, 5, 5, 5, 3, 2, 2, 2, 2, 4, 3]"
      ]
     },
     "metadata": {},
     "execution_count": 25
    }
   ],
   "source": [
    "array = [9, 13, 6, 2, 3, 5, 5, 5, 3, 2, 2, 2, 2, 4, 3]\n",
    "array"
   ]
  },
  {
   "cell_type": "code",
   "execution_count": 26,
   "metadata": {},
   "outputs": [],
   "source": [
    "left = 0\n",
    "length = 0\n",
    "idx = 100\n",
    "first = -1\n",
    "\n",
    "while length < len(array)-1:\n",
    "    for i in range(left+1, len(array)):\n",
    "        if array[left] == array[i]:\n",
    "            if i < idx:\n",
    "                first = array[left]\n",
    "                idx = i\n",
    "    left = left + 1\n",
    "    length = length + 1\n"
   ]
  },
  {
   "cell_type": "code",
   "execution_count": 30,
   "metadata": {},
   "outputs": [],
   "source": [
    "def firstDuplicateValue(array):\n",
    "    left = 0\n",
    "    length = 0\n",
    "    idx = 100\n",
    "    first = -1\n",
    "\n",
    "    while length < len(array)-1:\n",
    "        for i in range(left+1, len(array)):\n",
    "            if array[left] == array[i]:\n",
    "                if i < idx:\n",
    "                    first = array[left]\n",
    "                    idx = i\n",
    "        left = left + 1\n",
    "        length = length + 1\n",
    "    return first"
   ]
  },
  {
   "cell_type": "code",
   "execution_count": 32,
   "metadata": {},
   "outputs": [
    {
     "output_type": "execute_result",
     "data": {
      "text/plain": [
       "5"
      ]
     },
     "metadata": {},
     "execution_count": 32
    }
   ],
   "source": [
    "array = [9, 13, 6, 2, 3, 5, 5, 5, 3, 2, 2, 2, 2, 4, 3]\n",
    "firstDuplicateValue(array)"
   ]
  }
 ]
}