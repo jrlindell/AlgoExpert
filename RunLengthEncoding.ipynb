{
 "metadata": {
  "language_info": {
   "codemirror_mode": {
    "name": "ipython",
    "version": 3
   },
   "file_extension": ".py",
   "mimetype": "text/x-python",
   "name": "python",
   "nbconvert_exporter": "python",
   "pygments_lexer": "ipython3",
   "version": "3.6.8-final"
  },
  "orig_nbformat": 2,
  "kernelspec": {
   "name": "python3",
   "display_name": "Python 3",
   "language": "python"
  }
 },
 "nbformat": 4,
 "nbformat_minor": 2,
 "cells": [
  {
   "cell_type": "code",
   "execution_count": null,
   "metadata": {},
   "outputs": [],
   "source": [
    "# Input: non-empty string\n",
    "# Output: run-length encoding\n",
    "# Assumptions: Run-length encoding is basically lengths of characters in string. 'AAABBC' is '3A2B1C'\n",
    "    # caanot go bigger than 9 counted at once\n",
    "# LEARNED: use your loops\n"
   ]
  },
  {
   "cell_type": "code",
   "execution_count": 61,
   "metadata": {},
   "outputs": [],
   "source": [
    "string = \"aaaaaaaaaaaaaaaaaaaaaaaaaaaaaaaaaaaaaaaaaaaaaaaaaaaaaaaaaaaaaaaaaaaaaaaaaaaaaaaaaaaaaaaaaaaaaaaaaaaaaaaaaaaaaaaaaaaaaaaaaaaaaaaaaaaaaaaaaaaaaaaaaaaaaaaaaaaaaaaaaaaaaaaaaaaaaaaaaaaaaaaaaaaaaaaaaaaaaaaaaaaaaaaa\""
   ]
  },
  {
   "cell_type": "code",
   "execution_count": 54,
   "metadata": {},
   "outputs": [],
   "source": [
    "valcount = 0\n",
    "output = []\n",
    "string = string + 'a'\n",
    "for i in range(0, len(string)-1):\n",
    "    if string[i] == string[i+1]:\n",
    "        valcount = valcount + 1\n",
    "        if valcount >= 9:\n",
    "            output.append(valcount)\n",
    "            output.append(string[i])\n",
    "            valcount = 0\n",
    "    else:\n",
    "        output.append(valcount+1)\n",
    "        output.append(string[i])\n",
    "        valcount = 0\n",
    "output = ''.join([str(elem) for elem in output])"
   ]
  },
  {
   "cell_type": "code",
   "execution_count": 64,
   "metadata": {},
   "outputs": [],
   "source": [
    "def runLengthEncoding(string):\n",
    "    valcount = 0\n",
    "    output = []\n",
    "    string = string + 'z'\n",
    "    for i in range(0, len(string)-1):\n",
    "        if string[i] == string[i+1]:\n",
    "            valcount = valcount + 1\n",
    "            if valcount >= 9:\n",
    "                output.append(valcount)\n",
    "                output.append(string[i])\n",
    "                valcount = 0\n",
    "        else:\n",
    "            output.append(valcount+1)\n",
    "            output.append(string[i])\n",
    "            valcount = 0\n",
    "    output = ''.join([str(elem) for elem in output])\n",
    "    return output"
   ]
  },
  {
   "cell_type": "code",
   "execution_count": 65,
   "metadata": {},
   "outputs": [
    {
     "output_type": "execute_result",
     "data": {
      "text/plain": [
       "'9a9a9a9a9a9a9a9a9a9a9a9a9a9a9a9a9a9a9a9a9a9a9a1a'"
      ]
     },
     "metadata": {},
     "execution_count": 65
    }
   ],
   "source": [
    "runLengthEncoding(string)"
   ]
  }
 ]
}