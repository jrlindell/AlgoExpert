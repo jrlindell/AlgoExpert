{
 "metadata": {
  "language_info": {
   "codemirror_mode": {
    "name": "ipython",
    "version": 3
   },
   "file_extension": ".py",
   "mimetype": "text/x-python",
   "name": "python",
   "nbconvert_exporter": "python",
   "pygments_lexer": "ipython3",
   "version": "3.6.8-final"
  },
  "orig_nbformat": 2,
  "kernelspec": {
   "name": "python3",
   "display_name": "Python 3",
   "language": "python"
  }
 },
 "nbformat": 4,
 "nbformat_minor": 2,
 "cells": [
  {
   "cell_type": "code",
   "execution_count": null,
   "metadata": {},
   "outputs": [],
   "source": [
    "# Input: two non empty arrays of integers\n",
    "# Output: \\array of 2 numbers\n",
    "# Assumptions: finds closest numbers in arrays\n",
    "# LEARNED:\n"
   ]
  },
  {
   "cell_type": "code",
   "execution_count": 1,
   "metadata": {},
   "outputs": [],
   "source": [
    "arrayOne = [-1, 5, 10, 20, 28, 3]\n",
    "arrayTwo = [26, 134, 135, 15, 17]"
   ]
  },
  {
   "cell_type": "code",
   "execution_count": 4,
   "metadata": {},
   "outputs": [
    {
     "output_type": "stream",
     "name": "stdout",
     "text": [
      "[28, 26]\n"
     ]
    }
   ],
   "source": [
    "absdiff = 100\n",
    "closest = []\n",
    "for i in arrayOne:\n",
    "    for j in arrayTwo:\n",
    "        if abs(i - j) < absdiff:\n",
    "            absdiff = abs(i - j)\n",
    "            closest = [i, j]\n",
    "print(closest)"
   ]
  },
  {
   "cell_type": "code",
   "execution_count": 5,
   "metadata": {},
   "outputs": [],
   "source": [
    "def smallestDifference(arrayOne, arrayTwo):\n",
    "    absdiff = 100\n",
    "    closest = []\n",
    "    for i in arrayOne:\n",
    "        for j in arrayTwo:\n",
    "            if abs(i - j) < absdiff:\n",
    "                absdiff = abs(i - j)\n",
    "                closest = [i, j]\n",
    "    return closest"
   ]
  },
  {
   "cell_type": "code",
   "execution_count": 6,
   "metadata": {},
   "outputs": [
    {
     "output_type": "execute_result",
     "data": {
      "text/plain": [
       "[28, 26]"
      ]
     },
     "metadata": {},
     "execution_count": 6
    }
   ],
   "source": [
    "smallestDifference(arrayOne, arrayTwo)"
   ]
  }
 ]
}