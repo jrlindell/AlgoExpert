{
 "metadata": {
  "language_info": {
   "codemirror_mode": {
    "name": "ipython",
    "version": 3
   },
   "file_extension": ".py",
   "mimetype": "text/x-python",
   "name": "python",
   "nbconvert_exporter": "python",
   "pygments_lexer": "ipython3",
   "version": "3.6.8-final"
  },
  "orig_nbformat": 2,
  "kernelspec": {
   "name": "python3",
   "display_name": "Python 3"
  }
 },
 "nbformat": 4,
 "nbformat_minor": 2,
 "cells": [
  {
   "cell_type": "code",
   "execution_count": null,
   "metadata": {},
   "outputs": [],
   "source": [
    "# Input: Array of at least 3 integers\n",
    "# Output: sorted array of 3 largest numbers\n",
    "# Assumptions: Cannot sort array\n",
    "# LEARNED: "
   ]
  },
  {
   "cell_type": "code",
   "execution_count": 5,
   "metadata": {},
   "outputs": [],
   "source": [
    "array = [141, 1, 17, -7. -17, -27, 18, 541, 8, 7, 7]"
   ]
  },
  {
   "cell_type": "code",
   "execution_count": 41,
   "metadata": {},
   "outputs": [],
   "source": [
    "# worked\n",
    "def findThreeLargestNumbers(array):\n",
    "    large = [-1000, -1000, -1000]\n",
    "    for i in array:\n",
    "        if i > min(large):\n",
    "            large[large.index(min(large))] = i\n",
    "    large1 = []\n",
    "    large1.append(min(large))\n",
    "    large.remove(min(large))\n",
    "    large1.append(min(large))\n",
    "    large.remove(min(large))\n",
    "    large1.append(min(large))\n",
    "    return large1"
   ]
  },
  {
   "cell_type": "code",
   "execution_count": 44,
   "metadata": {},
   "outputs": [
    {
     "output_type": "execute_result",
     "data": {
      "text/plain": [
       "3"
      ]
     },
     "metadata": {},
     "execution_count": 44
    }
   ],
   "source": [
    "len(large)"
   ]
  }
 ]
}