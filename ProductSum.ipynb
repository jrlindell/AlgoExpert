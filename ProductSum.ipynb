{
 "metadata": {
  "language_info": {
   "codemirror_mode": {
    "name": "ipython",
    "version": 3
   },
   "file_extension": ".py",
   "mimetype": "text/x-python",
   "name": "python",
   "nbconvert_exporter": "python",
   "pygments_lexer": "ipython3",
   "version": "3.6.8-final"
  },
  "orig_nbformat": 2,
  "kernelspec": {
   "name": "python3",
   "display_name": "Python 3"
  }
 },
 "nbformat": 4,
 "nbformat_minor": 2,
 "cells": [
  {
   "cell_type": "code",
   "execution_count": null,
   "metadata": {},
   "outputs": [],
   "source": [
    "# Input: \"Special array\"\n",
    "# Output: Product sum\n",
    "    # sum of elements of special array * level depth (how far nested)\n",
    "# Assumptions: \n",
    "    # special array is non-empty\n",
    "        # contains either integers or other special arrays\n",
    "\n",
    "# LEARNED: I did not know the for loop i in array would treat i as the elements of array. did not need to reference by array[i]\n",
    "    # did not know you could use a function within a function\n",
    "    # sum = sum + 1 is the same as sum += 1"
   ]
  },
  {
   "cell_type": "code",
   "execution_count": 48,
   "metadata": {},
   "outputs": [],
   "source": [
    "array = [5, 2, [7, -1], 3, [6, [-13, 8], 4]]\n",
    "\n",
    "# find elements in array\n",
    "def getSizeOfNestedList(array):\n",
    "    count = 0\n",
    "    # Iterate over the list\n",
    "    for elem in array:\n",
    "        # Check if type of element is list\n",
    "        if type(elem) == list:  \n",
    "            # Again call this function to get the size of this element\n",
    "            count += getSizeOfNestedList(elem)\n",
    "        else:\n",
    "            count += 1    \n",
    "    return count"
   ]
  },
  {
   "cell_type": "code",
   "execution_count": 124,
   "metadata": {},
   "outputs": [],
   "source": [
    "def productSum(array, m = 1):\n",
    "    sum = 0\n",
    "    for i in array:\n",
    "        if type(i) == int:\n",
    "            sum = sum + i\n",
    "        else:\n",
    "            sum = sum + productSum(i, m + 1)\n",
    "    return sum * m"
   ]
  },
  {
   "cell_type": "code",
   "execution_count": 125,
   "metadata": {},
   "outputs": [
    {
     "output_type": "execute_result",
     "data": {
      "text/plain": [
       "12"
      ]
     },
     "metadata": {},
     "execution_count": 125
    }
   ],
   "source": [
    "productSum(array)"
   ]
  }
 ]
}