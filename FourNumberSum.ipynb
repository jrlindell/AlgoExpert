{
 "metadata": {
  "language_info": {
   "codemirror_mode": {
    "name": "ipython",
    "version": 3
   },
   "file_extension": ".py",
   "mimetype": "text/x-python",
   "name": "python",
   "nbconvert_exporter": "python",
   "pygments_lexer": "ipython3",
   "version": "3.6.8-final"
  },
  "orig_nbformat": 2,
  "kernelspec": {
   "name": "python3",
   "display_name": "Python 3",
   "language": "python"
  }
 },
 "nbformat": 4,
 "nbformat_minor": 2,
 "cells": [
  {
   "cell_type": "code",
   "execution_count": null,
   "metadata": {},
   "outputs": [],
   "source": [
    "# Input: array of distinct integers, target sum\n",
    "# Output: array representing all quadruplets that sum to target number\n",
    "# Assumptions:\n",
    "# LEARNED:"
   ]
  },
  {
   "cell_type": "code",
   "execution_count": 1,
   "metadata": {},
   "outputs": [],
   "source": [
    "array = [7,6,4,-1,1,2]\n",
    "targetSum = 16"
   ]
  },
  {
   "cell_type": "code",
   "execution_count": 28,
   "metadata": {},
   "outputs": [],
   "source": [
    "# using itertools\n",
    "def fourNumberSum(array, targetSum):\n",
    "    from itertools import combinations\n",
    "    import numpy as np\n",
    "    answer = []\n",
    "\n",
    "    a = list(combinations(array,4))\n",
    "    \n",
    "    for i in range(0, len(a)):\n",
    "        if sum(a[i]) == targetSum:\n",
    "            answer.append(a[i])\n",
    "    return answer"
   ]
  },
  {
   "cell_type": "code",
   "execution_count": 29,
   "metadata": {},
   "outputs": [
    {
     "output_type": "execute_result",
     "data": {
      "text/plain": [
       "[(7, 6, 4, -1), (7, 6, 2, 1)]"
      ]
     },
     "metadata": {},
     "execution_count": 29
    }
   ],
   "source": [
    "# without itertools\n",
    "\n",
    "allpairs = []\n",
    "quad = []\n",
    "\n",
    "left = 0\n",
    "length = 0\n",
    "\n",
    "while length < len(array)-1:\n",
    "    for i in range(left, len(array)):\n",
    "        "
   ]
  }
 ]
}