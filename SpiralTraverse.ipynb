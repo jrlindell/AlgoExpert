{
 "metadata": {
  "language_info": {
   "codemirror_mode": {
    "name": "ipython",
    "version": 3
   },
   "file_extension": ".py",
   "mimetype": "text/x-python",
   "name": "python",
   "nbconvert_exporter": "python",
   "pygments_lexer": "ipython3",
   "version": "3.6.8-final"
  },
  "orig_nbformat": 2,
  "kernelspec": {
   "name": "python3",
   "display_name": "Python 3",
   "language": "python"
  }
 },
 "nbformat": 4,
 "nbformat_minor": 2,
 "cells": [
  {
   "cell_type": "code",
   "execution_count": null,
   "metadata": {},
   "outputs": [],
   "source": [
    "# Input: n x m array\n",
    "# Output: one-d array in spiral order\n",
    "# Assumptions: spiral order starts top left, goes right, down, left...\n",
    "# LEARNED: use more counters than you think you need. While loops will complete the whole iteration before checking the condition\n"
   ]
  },
  {
   "cell_type": "code",
   "execution_count": 39,
   "metadata": {},
   "outputs": [],
   "source": [
    "array = [\n",
    "    [1, 2, 3], [12, 13, 4], [11, 14, 5], [10, 15, 6], [9, 8, 7]\n",
    "    ]"
   ]
  },
  {
   "cell_type": "code",
   "execution_count": 45,
   "metadata": {},
   "outputs": [],
   "source": [
    "rows = len(array)\n",
    "cols = len(array[0])\n",
    "\n",
    "toprow = 0\n",
    "bottomrow = rows\n",
    "leftcol = 0\n",
    "rightcol = cols\n",
    "\n",
    "new = []\n",
    "\n",
    "for i in range(leftcol, rightcol): # row = 0, col = 0-3\n",
    "    new.append(array[toprow][i])\n",
    "for j in range(toprow+1, bottomrow): # col = 3, row = 0-3\n",
    "    new.append(array[j][rightcol-1])\n",
    "toprow = toprow + 1 # get rid of top row\n",
    "rightcol = rightcol - 1 # get rid of right col\n",
    "for k in range(rightcol-1, leftcol, -1): # row = 3, col = 3-0\n",
    "    new.append(array[bottomrow-1][k])\n",
    "bottomrow = bottomrow - 1\n",
    "for l in range(bottomrow, toprow-1, -1): # col = 0, row = 2-1\n",
    "    new.append(array[l][leftcol])\n",
    "leftcol = leftcol + 1"
   ]
  },
  {
   "cell_type": "code",
   "execution_count": 53,
   "metadata": {},
   "outputs": [],
   "source": [
    "rows = len(array)\n",
    "cols = len(array[0])\n",
    "\n",
    "toprow = 0\n",
    "bottomrow = rows\n",
    "leftcol = 0\n",
    "rightcol = cols\n",
    "\n",
    "new = []\n",
    "\n",
    "while len(new) < rows * cols:\n",
    "    for i in range(leftcol, rightcol): # row = 0, col = 0-3\n",
    "        if len(new) >= rows*cols:\n",
    "            break\n",
    "        new.append(array[toprow][i])\n",
    "    for j in range(toprow+1, bottomrow): # col = 3, row = 0-3\n",
    "        if len(new) >= rows*cols:\n",
    "            break\n",
    "        new.append(array[j][rightcol-1])\n",
    "    toprow = toprow + 1 # get rid of top row\n",
    "    rightcol = rightcol - 1 # get rid of right col\n",
    "    for k in range(rightcol-1, leftcol, -1): # row = 3, col = 3-0\n",
    "        if len(new) >= rows*cols:\n",
    "            break\n",
    "        new.append(array[bottomrow-1][k])\n",
    "    bottomrow = bottomrow - 1\n",
    "    for l in range(bottomrow, toprow-1, -1): # col = 0, row = 2-1\n",
    "        if len(new) >= rows*cols:\n",
    "            break\n",
    "        new.append(array[l][leftcol])\n",
    "    leftcol = leftcol + 1"
   ]
  },
  {
   "cell_type": "code",
   "execution_count": 56,
   "metadata": {},
   "outputs": [],
   "source": [
    "def spiralTraverse(array):\n",
    "    rows = len(array)\n",
    "    cols = len(array[0])\n",
    "\n",
    "    toprow = 0\n",
    "    bottomrow = rows\n",
    "    leftcol = 0\n",
    "    rightcol = cols\n",
    "\n",
    "    new = []\n",
    "\n",
    "    while len(new) < rows * cols:\n",
    "        for i in range(leftcol, rightcol): # row = 0, col = 0-3\n",
    "            if len(new) >= rows*cols:\n",
    "                break\n",
    "            new.append(array[toprow][i])\n",
    "        for j in range(toprow+1, bottomrow): # col = 3, row = 0-3\n",
    "            if len(new) >= rows*cols:\n",
    "                break\n",
    "            new.append(array[j][rightcol-1])\n",
    "        toprow = toprow + 1 # get rid of top row\n",
    "        rightcol = rightcol - 1 # get rid of right col\n",
    "        for k in range(rightcol-1, leftcol, -1): # row = 3, col = 3-0\n",
    "            if len(new) >= rows*cols:\n",
    "                break\n",
    "            new.append(array[bottomrow-1][k])\n",
    "        bottomrow = bottomrow - 1\n",
    "        for l in range(bottomrow, toprow-1, -1): # col = 0, row = 2-1\n",
    "            if len(new) >= rows*cols:\n",
    "                break\n",
    "            new.append(array[l][leftcol])\n",
    "        leftcol = leftcol + 1\n",
    "    return new"
   ]
  },
  {
   "cell_type": "code",
   "execution_count": 57,
   "metadata": {},
   "outputs": [
    {
     "output_type": "execute_result",
     "data": {
      "text/plain": [
       "[1, 2, 3, 4, 5, 6, 7, 8, 9, 10, 11, 12, 13, 14, 15]"
      ]
     },
     "metadata": {},
     "execution_count": 57
    }
   ],
   "source": [
    "spiralTraverse(array)"
   ]
  }
 ]
}