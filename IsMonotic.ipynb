{
 "metadata": {
  "language_info": {
   "codemirror_mode": {
    "name": "ipython",
    "version": 3
   },
   "file_extension": ".py",
   "mimetype": "text/x-python",
   "name": "python",
   "nbconvert_exporter": "python",
   "pygments_lexer": "ipython3",
   "version": "3.6.8-final"
  },
  "orig_nbformat": 2,
  "kernelspec": {
   "name": "python3",
   "display_name": "Python 3",
   "language": "python"
  }
 },
 "nbformat": 4,
 "nbformat_minor": 2,
 "cells": [
  {
   "cell_type": "code",
   "execution_count": null,
   "metadata": {},
   "outputs": [],
   "source": [
    "# Input: array\n",
    "# Output: boolean of whether is monotonic\n",
    "# Assumptions: monotonic means it is entirely non-increasing or non-decreasing\n",
    "# LEARNED: return function inside of a function in a function. the subfunction returns to the master function, so the master function needs to have that function output saved as something"
   ]
  },
  {
   "cell_type": "code",
   "execution_count": 12,
   "metadata": {},
   "outputs": [],
   "source": [
    "array = [-1, -5, -10, -1100, -1100, -1101, -1102, -9001]\n",
    "array2 = [] # monotonic\n",
    "array3 = [1] # monotonic\n",
    "array4 = [1,2] # monotonic\n",
    "array5 = [1, 1, 2, 3, 4, 5, 5, 5, 6, 7, 8, 7, 9, 10, 11]"
   ]
  },
  {
   "cell_type": "code",
   "execution_count": 26,
   "metadata": {},
   "outputs": [],
   "source": [
    "def isMonotonic(array):\n",
    "    if len(array) <= 1:\n",
    "        return True\n",
    "    else: # is either increasing, decreasing, or equal\n",
    "        if array[1] > array[0]:\n",
    "            output = isIncreasing(array)\n",
    "        elif array[1] < array[0]:\n",
    "            output = isDecreasing(array)\n",
    "        else:\n",
    "            output = isEqual(array)\n",
    "    return output\n",
    "\n",
    "def isIncreasing(array): # determine if always increasing\n",
    "    for i in range(0,len(array)-1):\n",
    "        if array[i+1] >= array[i]:\n",
    "            pass\n",
    "        else:\n",
    "            return False\n",
    "            break\n",
    "    return True\n",
    "\n",
    "\n",
    "def isDecreasing(array):\n",
    "    for i in range(0,len(array)-1):\n",
    "        if array[i+1] <= array[i]:\n",
    "            pass\n",
    "        else:\n",
    "            return False\n",
    "            break\n",
    "    return True\n",
    "\n",
    "def isEqual(array):\n",
    "    for i in range(0, len(array)-1):\n",
    "        if array[i+1] > array[i]:\n",
    "            eq = isIncreasing(array)\n",
    "        elif array[i+1] < array[i]:\n",
    "            eq = isDecreasing(array)\n",
    "        else:\n",
    "            if i == len(array)-2:\n",
    "                eq = True\n",
    "    return eq\n",
    "        "
   ]
  },
  {
   "cell_type": "code",
   "execution_count": 27,
   "metadata": {},
   "outputs": [
    {
     "output_type": "execute_result",
     "data": {
      "text/plain": [
       "True"
      ]
     },
     "metadata": {},
     "execution_count": 27
    }
   ],
   "source": [
    "array = [-1, -1, -1, -1, -1, -1, -1, -1]\n",
    "isEqual(array)"
   ]
  }
 ]
}