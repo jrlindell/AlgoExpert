{
 "metadata": {
  "language_info": {
   "codemirror_mode": {
    "name": "ipython",
    "version": 3
   },
   "file_extension": ".py",
   "mimetype": "text/x-python",
   "name": "python",
   "nbconvert_exporter": "python",
   "pygments_lexer": "ipython3",
   "version": "3.6.8-final"
  },
  "orig_nbformat": 2,
  "kernelspec": {
   "name": "python3",
   "display_name": "Python 3"
  }
 },
 "nbformat": 4,
 "nbformat_minor": 2,
 "cells": [
  {
   "cell_type": "code",
   "execution_count": 86,
   "metadata": {},
   "outputs": [],
   "source": [
    "# TWO NUMBER SUM\n",
    "## takes in non-empty array and goal integer. if any two numbers sum to the target number, the function returns them in an array.\n",
    "\n",
    "\n",
    "array = [3, 5, -4, 8, 11, 1, -1, 6]\n",
    "array = sorted(array)\n",
    "targetSum = 10"
   ]
  },
  {
   "cell_type": "code",
   "execution_count": 88,
   "metadata": {},
   "outputs": [],
   "source": [
    "# Solution 1\n",
    "def twoNumberSum(array, targetSum):\n",
    "    worked = []\n",
    "    for i in range(0, len(array)-1):\n",
    "        for j in range(0, len(array)-1):\n",
    "            if (array[i] + array[j] == targetSum):\n",
    "                if (i == j):\n",
    "                    pass\n",
    "                elif (array[i] in worked):\n",
    "                    pass\n",
    "                else:\n",
    "                    worked.append(array[i])\n",
    "                    worked.append(array[j])\n",
    "    print(worked)"
   ]
  },
  {
   "cell_type": "code",
   "execution_count": 87,
   "metadata": {
    "tags": []
   },
   "outputs": [
    {
     "output_type": "stream",
     "name": "stdout",
     "text": [
      "[-1, 11]\n"
     ]
    }
   ],
   "source": [
    "# Solution 2\n",
    "\n",
    "def twoNumberSum(array, targetSum):\n",
    "    array.sort()\n",
    "\tleft = 0\n",
    "\tright = len(array)-1\n",
    "\twhile left < right:\n",
    "    \tsum = array[left] + array[right]\n",
    "    \tif (sum == targetSum):\n",
    "        \treturn[array[left], array[right]]\n",
    "        \tbreak\n",
    "    \telif (sum < targetSum):\n",
    "        \tleft = left + 1\n",
    "    \telse:\n",
    "        \tright = right - 1\n",
    "    return []"
   ]
  },
  {
   "cell_type": "code",
   "execution_count": 89,
   "metadata": {},
   "outputs": [
    {
     "output_type": "stream",
     "name": "stdout",
     "text": [
      "[11, -1]\n"
     ]
    }
   ],
   "source": [
    "array = [3, 5, -4, 8, 11, 1, -1, 6]\n",
    "targetSum = 10\n",
    "twoNumberSum(array, targetSum)"
   ]
  }
 ]
}