{
 "metadata": {
  "language_info": {
   "codemirror_mode": {
    "name": "ipython",
    "version": 3
   },
   "file_extension": ".py",
   "mimetype": "text/x-python",
   "name": "python",
   "nbconvert_exporter": "python",
   "pygments_lexer": "ipython3",
   "version": "3.6.8-final"
  },
  "orig_nbformat": 2,
  "kernelspec": {
   "name": "python3",
   "display_name": "Python 3"
  }
 },
 "nbformat": 4,
 "nbformat_minor": 2,
 "cells": [
  {
   "cell_type": "code",
   "execution_count": 5,
   "metadata": {},
   "outputs": [],
   "source": [
    "# Input: BST and target value\n",
    "# Output: closest value in BST to target\n",
    "# Assumptions: Only one closest value\n",
    "# LEARNED: Trees are very hard to work with. Once I understoof tree.value, tree.left, and tree.right it made it easier\n",
    "    # once again, can use a function within a function\n"
   ]
  },
  {
   "cell_type": "code",
   "execution_count": null,
   "metadata": {},
   "outputs": [],
   "source": [
    "def findClosestValueInBst(tree, target):\n",
    "    return findClosestValueInBstHelper(tree, target, tree.value)\n",
    "\n",
    "def findClosestValueInBstHelper(tree, target, closest):\n",
    "    if tree is None:\n",
    "        return closest\n",
    "    if abs(target - closest) > abs(target - tree.value):\n",
    "        closest = tree.value\n",
    "    if target < tree.value:\n",
    "        return findClosestValueInBstHelper(tree.left, target, closest)\n",
    "    elif target > tree.value:\n",
    "        return findClosestValueInBstHelper(tree.right, target, closest)\n",
    "\n",
    "\n",
    "# This is the class of the input tree. Do not edit.\n",
    "class BST:\n",
    "    def __init__(self, value):\n",
    "        self.value = value\n",
    "        self.left = None\n",
    "        self.right = None\n"
   ]
  }
 ]
}