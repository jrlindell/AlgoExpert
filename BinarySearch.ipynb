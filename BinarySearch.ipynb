{
 "metadata": {
  "language_info": {
   "codemirror_mode": {
    "name": "ipython",
    "version": 3
   },
   "file_extension": ".py",
   "mimetype": "text/x-python",
   "name": "python",
   "nbconvert_exporter": "python",
   "pygments_lexer": "ipython3",
   "version": "3.6.8-final"
  },
  "orig_nbformat": 2,
  "kernelspec": {
   "name": "python3",
   "display_name": "Python 3"
  }
 },
 "nbformat": 4,
 "nbformat_minor": 2,
 "cells": [
  {
   "cell_type": "code",
   "execution_count": null,
   "metadata": {},
   "outputs": [],
   "source": [
    "# Input: sorted array of integers, and target integer\n",
    "# Output: index if target in array, o/w -1\n",
    "# Assumptions: Use Binary Search method. Should input first value found\n",
    "# LEARNED: //2 in python divides by 2 and rounds down"
   ]
  },
  {
   "cell_type": "code",
   "execution_count": 64,
   "metadata": {},
   "outputs": [],
   "source": [
    "array = [0, 1, 21, 33, 45, 45, 61, 71, 72, 73]\n",
    "target = 33"
   ]
  },
  {
   "cell_type": "code",
   "execution_count": 82,
   "metadata": {},
   "outputs": [],
   "source": [
    "def BinarySearch(array, target):\n",
    "    Found = 'NA'\n",
    "    l = 0\n",
    "    r = len(array) - 1\n",
    "    count = 0\n",
    "    while Found == 'NA':\n",
    "        m = (l + r) // 2\n",
    "        if array[m] == target:\n",
    "            Found = m\n",
    "            return Found\n",
    "        elif array[m] > target:\n",
    "            r = m - 1\n",
    "        elif array[m] < target:\n",
    "            l = m + 1\n",
    "        if l > r:\n",
    "            count = count + 1\n",
    "            if count > 1:\n",
    "                Found = -1\n",
    "                return Found"
   ]
  },
  {
   "cell_type": "code",
   "execution_count": 85,
   "metadata": {
    "tags": []
   },
   "outputs": [
    {
     "output_type": "execute_result",
     "data": {
      "text/plain": [
       "3"
      ]
     },
     "metadata": {},
     "execution_count": 85
    }
   ],
   "source": [
    "BinarySearch(array, target)"
   ]
  }
 ]
}