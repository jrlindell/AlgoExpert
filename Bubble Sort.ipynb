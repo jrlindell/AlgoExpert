{
 "metadata": {
  "language_info": {
   "codemirror_mode": {
    "name": "ipython",
    "version": 3
   },
   "file_extension": ".py",
   "mimetype": "text/x-python",
   "name": "python",
   "nbconvert_exporter": "python",
   "pygments_lexer": "ipython3",
   "version": "3.6.8-final"
  },
  "orig_nbformat": 2,
  "kernelspec": {
   "name": "python3",
   "display_name": "Python 3"
  }
 },
 "nbformat": 4,
 "nbformat_minor": 2,
 "cells": [
  {
   "cell_type": "code",
   "execution_count": null,
   "metadata": {},
   "outputs": [],
   "source": [
    "# Input: array of integers\n",
    "# Output: sorted version of array\n",
    "# Assumptions: Use bubble sort\n",
    "# LEARNED:"
   ]
  },
  {
   "cell_type": "code",
   "execution_count": 5,
   "metadata": {},
   "outputs": [],
   "source": [
    "array = [8, 5, 3, 9, 5, 6, 3]\n",
    "length = len(array)-1\n",
    "while length > 0:\n",
    "    for i in range(0, length):\n",
    "        if array[i] > array[i+1]:\n",
    "            array[i],array[i+1] = array[i+1], array[i]\n",
    "    length = length - 1"
   ]
  },
  {
   "cell_type": "code",
   "execution_count": 9,
   "metadata": {},
   "outputs": [],
   "source": [
    "#WORKED\n",
    "def bubbleSort(array):\n",
    "    length = len(array)-1\n",
    "    while length > 0:\n",
    "        for i in range(0, length):\n",
    "            if array[i] > array[i+1]:\n",
    "                array[i],array[i+1] = array[i+1], array[i]\n",
    "        length = length - 1\n",
    "    return array"
   ]
  },
  {
   "cell_type": "code",
   "execution_count": 11,
   "metadata": {},
   "outputs": [
    {
     "output_type": "stream",
     "name": "stdout",
     "text": [
      "[3, 3, 5, 5, 6, 8, 9]\n[3, 3, 5, 5, 6, 8, 9]\n[3, 3, 5, 5, 6, 8, 9]\n[3, 3, 5, 5, 6, 8, 9]\n[3, 3, 5, 5, 6, 8, 9]\n[3, 3, 5, 5, 6, 8, 9]\n"
     ]
    }
   ],
   "source": [
    "# want a faster way to do this\n",
    "    # could you do it from both ends simultaneously?\n",
    "\n",
    "l = 0\n",
    "r = len(array)-1\n",
    "\n",
    "while l < len(array)-1:\n",
    "    for i in range(0,r):\n",
    "        if array[l] < array[i]:\n",
    "            array[i], array[l] = array[l], array[i]\n",
    "            l = l+1\n",
    "        else:"
   ]
  }
 ]
}