{
 "metadata": {
  "language_info": {
   "codemirror_mode": {
    "name": "ipython",
    "version": 3
   },
   "file_extension": ".py",
   "mimetype": "text/x-python",
   "name": "python",
   "nbconvert_exporter": "python",
   "pygments_lexer": "ipython3",
   "version": "3.6.8-final"
  },
  "orig_nbformat": 2,
  "kernelspec": {
   "name": "python3",
   "display_name": "Python 3"
  }
 },
 "nbformat": 4,
 "nbformat_minor": 2,
 "cells": [
  {
   "cell_type": "code",
   "execution_count": null,
   "metadata": {},
   "outputs": [],
   "source": [
    "# Validate Subsequence\n",
    "## given an array and a sequence, determine if the sequence is shown in the array\n",
    "## must be in same order as the array\n"
   ]
  },
  {
   "cell_type": "code",
   "execution_count": 17,
   "metadata": {},
   "outputs": [
    {
     "output_type": "stream",
     "name": "stdout",
     "text": [
      "True\n"
     ]
    }
   ],
   "source": [
    "# works for everything but does not need to be in order\n",
    "array = [5, 1, 22, 25, 6, -1, 8, 10]\n",
    "sequence = [5, 1, 25, 22, 6, -1, 8, 10]\n",
    "\n",
    "count = 0\n",
    "\n",
    "for i in range(0, len(sequence)):\n",
    "    if sequence[i] in array:\n",
    "        pass\n",
    "        array.remove(sequence[i])\n",
    "        count = count + 1\n",
    "\n",
    "    else:\n",
    "        break\n",
    "if (count == len(sequence)):\n",
    "    print(True)\n",
    "        # return True\n",
    "else:\n",
    "    print(False)\n",
    "        #return False"
   ]
  },
  {
   "cell_type": "code",
   "execution_count": null,
   "metadata": {},
   "outputs": [],
   "source": [
    "# worked for all but case 21\n",
    "def isValidSubsequence(array, sequence):\n",
    "    count = 0\n",
    "\tj = 0\n",
    "    for i in range(0, len(sequence)):\n",
    "        if sequence[i] in array[j:]:\n",
    "            #pass\n",
    "            #array.remove(sequence[i])\n",
    "            count = count + 1\n",
    "\t\t\tj = array.index(sequence[i])+1\n",
    "\t\t\t#j = j + 1\n",
    "        else:\n",
    "            break\n",
    "    if (count == len(sequence)):\n",
    "        return True\n",
    "    else:\n",
    "        return False"
   ]
  },
  {
   "cell_type": "code",
   "execution_count": 95,
   "metadata": {},
   "outputs": [
    {
     "output_type": "stream",
     "name": "stdout",
     "text": [
      "True\n"
     ]
    }
   ],
   "source": [
    "# WORKED\n",
    "# if in array, drop everything in array to the left\n",
    "array = [5,1,22,25,6,-1,8,10]\n",
    "sequence = [1,6,-1,10]\n",
    "\n",
    "count = 0\n",
    "\n",
    "for i in range(0, len(sequence)):\n",
    "    if sequence[i] in array:\n",
    "        count = count + 1\n",
    "        j = array.index(sequence[i])+1\n",
    "        array = array[j:]\n",
    "    else:\n",
    "        break\n",
    "if (count == len(sequence)):\n",
    "    print(True)\n",
    "        # return True\n",
    "else:\n",
    "    print(False)\n",
    "        #return False  "
   ]
  },
  {
   "cell_type": "code",
   "execution_count": 93,
   "metadata": {},
   "outputs": [
    {
     "output_type": "execute_result",
     "data": {
      "text/plain": [
       "33"
      ]
     },
     "metadata": {},
     "execution_count": 93
    }
   ],
   "source": [
    "count"
   ]
  }
 ]
}